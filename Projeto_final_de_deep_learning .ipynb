{
  "cells": [
    {
      "cell_type": "markdown",
      "source": [
        "# Projeto final de Deep Learning \n",
        "## Equipe: Denilson Pedro, Gregory Lira, Lincoln Wallace\n",
        "### Professor: Tiago Maritan \n",
        "\n"
      ],
      "metadata": {
        "id": "9gnD9_fhVtjj"
      },
      "id": "9gnD9_fhVtjj"
    },
    {
      "cell_type": "markdown",
      "source": [
        "## Análise de sentimentos: Impacto da tradução nos conjuntos de dados. "
      ],
      "metadata": {
        "id": "JQK57eOmWFNl"
      },
      "id": "JQK57eOmWFNl"
    },
    {
      "cell_type": "code",
      "source": [
        "!pip3 install transformers\n",
        "!pip3 install dl-translate"
      ],
      "metadata": {
        "colab": {
          "base_uri": "https://localhost:8080/"
        },
        "id": "tL13Y8bUn3pR",
        "outputId": "fd452ef3-a99e-4c7c-9e02-14bb41e7a5a2"
      },
      "id": "tL13Y8bUn3pR",
      "execution_count": 37,
      "outputs": [
        {
          "output_type": "stream",
          "name": "stdout",
          "text": [
            "Looking in indexes: https://pypi.org/simple, https://us-python.pkg.dev/colab-wheels/public/simple/\n",
            "Requirement already satisfied: transformers in /usr/local/lib/python3.7/dist-packages (4.20.0)\n",
            "Requirement already satisfied: regex!=2019.12.17 in /usr/local/lib/python3.7/dist-packages (from transformers) (2022.6.2)\n",
            "Requirement already satisfied: filelock in /usr/local/lib/python3.7/dist-packages (from transformers) (3.7.1)\n",
            "Requirement already satisfied: huggingface-hub<1.0,>=0.1.0 in /usr/local/lib/python3.7/dist-packages (from transformers) (0.7.0)\n",
            "Requirement already satisfied: importlib-metadata in /usr/local/lib/python3.7/dist-packages (from transformers) (4.11.4)\n",
            "Requirement already satisfied: tqdm>=4.27 in /usr/local/lib/python3.7/dist-packages (from transformers) (4.64.0)\n",
            "Requirement already satisfied: tokenizers!=0.11.3,<0.13,>=0.11.1 in /usr/local/lib/python3.7/dist-packages (from transformers) (0.12.1)\n",
            "Requirement already satisfied: pyyaml>=5.1 in /usr/local/lib/python3.7/dist-packages (from transformers) (6.0)\n",
            "Requirement already satisfied: requests in /usr/local/lib/python3.7/dist-packages (from transformers) (2.23.0)\n",
            "Requirement already satisfied: numpy>=1.17 in /usr/local/lib/python3.7/dist-packages (from transformers) (1.21.6)\n",
            "Requirement already satisfied: packaging>=20.0 in /usr/local/lib/python3.7/dist-packages (from transformers) (21.3)\n",
            "Requirement already satisfied: typing-extensions>=3.7.4.3 in /usr/local/lib/python3.7/dist-packages (from huggingface-hub<1.0,>=0.1.0->transformers) (4.1.1)\n",
            "Requirement already satisfied: pyparsing!=3.0.5,>=2.0.2 in /usr/local/lib/python3.7/dist-packages (from packaging>=20.0->transformers) (3.0.9)\n",
            "Requirement already satisfied: zipp>=0.5 in /usr/local/lib/python3.7/dist-packages (from importlib-metadata->transformers) (3.8.0)\n",
            "Requirement already satisfied: chardet<4,>=3.0.2 in /usr/local/lib/python3.7/dist-packages (from requests->transformers) (3.0.4)\n",
            "Requirement already satisfied: certifi>=2017.4.17 in /usr/local/lib/python3.7/dist-packages (from requests->transformers) (2022.6.15)\n",
            "Requirement already satisfied: idna<3,>=2.5 in /usr/local/lib/python3.7/dist-packages (from requests->transformers) (2.10)\n",
            "Requirement already satisfied: urllib3!=1.25.0,!=1.25.1,<1.26,>=1.21.1 in /usr/local/lib/python3.7/dist-packages (from requests->transformers) (1.24.3)\n",
            "Looking in indexes: https://pypi.org/simple, https://us-python.pkg.dev/colab-wheels/public/simple/\n",
            "Requirement already satisfied: dl-translate in /usr/local/lib/python3.7/dist-packages (0.2.5)\n",
            "Requirement already satisfied: transformers>=4.4.0 in /usr/local/lib/python3.7/dist-packages (from dl-translate) (4.20.0)\n",
            "Requirement already satisfied: sentencepiece in /usr/local/lib/python3.7/dist-packages (from dl-translate) (0.1.96)\n",
            "Requirement already satisfied: protobuf in /usr/local/lib/python3.7/dist-packages (from dl-translate) (3.17.3)\n",
            "Requirement already satisfied: torch in /usr/local/lib/python3.7/dist-packages (from dl-translate) (1.11.0+cu113)\n",
            "Requirement already satisfied: tqdm in /usr/local/lib/python3.7/dist-packages (from dl-translate) (4.64.0)\n",
            "Requirement already satisfied: numpy>=1.17 in /usr/local/lib/python3.7/dist-packages (from transformers>=4.4.0->dl-translate) (1.21.6)\n",
            "Requirement already satisfied: pyyaml>=5.1 in /usr/local/lib/python3.7/dist-packages (from transformers>=4.4.0->dl-translate) (6.0)\n",
            "Requirement already satisfied: packaging>=20.0 in /usr/local/lib/python3.7/dist-packages (from transformers>=4.4.0->dl-translate) (21.3)\n",
            "Requirement already satisfied: filelock in /usr/local/lib/python3.7/dist-packages (from transformers>=4.4.0->dl-translate) (3.7.1)\n",
            "Requirement already satisfied: importlib-metadata in /usr/local/lib/python3.7/dist-packages (from transformers>=4.4.0->dl-translate) (4.11.4)\n",
            "Requirement already satisfied: tokenizers!=0.11.3,<0.13,>=0.11.1 in /usr/local/lib/python3.7/dist-packages (from transformers>=4.4.0->dl-translate) (0.12.1)\n",
            "Requirement already satisfied: requests in /usr/local/lib/python3.7/dist-packages (from transformers>=4.4.0->dl-translate) (2.23.0)\n",
            "Requirement already satisfied: regex!=2019.12.17 in /usr/local/lib/python3.7/dist-packages (from transformers>=4.4.0->dl-translate) (2022.6.2)\n",
            "Requirement already satisfied: huggingface-hub<1.0,>=0.1.0 in /usr/local/lib/python3.7/dist-packages (from transformers>=4.4.0->dl-translate) (0.7.0)\n",
            "Requirement already satisfied: typing-extensions>=3.7.4.3 in /usr/local/lib/python3.7/dist-packages (from huggingface-hub<1.0,>=0.1.0->transformers>=4.4.0->dl-translate) (4.1.1)\n",
            "Requirement already satisfied: pyparsing!=3.0.5,>=2.0.2 in /usr/local/lib/python3.7/dist-packages (from packaging>=20.0->transformers>=4.4.0->dl-translate) (3.0.9)\n",
            "Requirement already satisfied: zipp>=0.5 in /usr/local/lib/python3.7/dist-packages (from importlib-metadata->transformers>=4.4.0->dl-translate) (3.8.0)\n",
            "Requirement already satisfied: six>=1.9 in /usr/local/lib/python3.7/dist-packages (from protobuf->dl-translate) (1.15.0)\n",
            "Requirement already satisfied: idna<3,>=2.5 in /usr/local/lib/python3.7/dist-packages (from requests->transformers>=4.4.0->dl-translate) (2.10)\n",
            "Requirement already satisfied: urllib3!=1.25.0,!=1.25.1,<1.26,>=1.21.1 in /usr/local/lib/python3.7/dist-packages (from requests->transformers>=4.4.0->dl-translate) (1.24.3)\n",
            "Requirement already satisfied: certifi>=2017.4.17 in /usr/local/lib/python3.7/dist-packages (from requests->transformers>=4.4.0->dl-translate) (2022.6.15)\n",
            "Requirement already satisfied: chardet<4,>=3.0.2 in /usr/local/lib/python3.7/dist-packages (from requests->transformers>=4.4.0->dl-translate) (3.0.4)\n"
          ]
        }
      ]
    },
    {
      "cell_type": "markdown",
      "source": [
        "## Import das bibliotecas:"
      ],
      "metadata": {
        "id": "MuLdd7OOVqyb"
      },
      "id": "MuLdd7OOVqyb"
    },
    {
      "cell_type": "code",
      "execution_count": 38,
      "id": "8a75f0f1",
      "metadata": {
        "colab": {
          "base_uri": "https://localhost:8080/"
        },
        "id": "8a75f0f1",
        "outputId": "33548fa8-eaf4-4c5d-9502-c7bf6993bf03"
      },
      "outputs": [
        {
          "output_type": "stream",
          "name": "stderr",
          "text": [
            "[nltk_data] Downloading package stopwords to /root/nltk_data...\n",
            "[nltk_data]   Package stopwords is already up-to-date!\n",
            "[nltk_data] Downloading package wordnet to /root/nltk_data...\n",
            "[nltk_data]   Package wordnet is already up-to-date!\n"
          ]
        },
        {
          "output_type": "execute_result",
          "data": {
            "text/plain": [
              "True"
            ]
          },
          "metadata": {},
          "execution_count": 38
        }
      ],
      "source": [
        "import tensorflow as tf\n",
        "import pandas as pd\n",
        "import numpy as np\n",
        "from transformers import AutoTokenizer, AutoModelForSeq2SeqLM, pipeline\n",
        "from sklearn.model_selection import train_test_split\n",
        "from sklearn.metrics import classification_report\n",
        "from sklearn.feature_extraction.text import CountVectorizer\n",
        "from sklearn.feature_extraction.text import TfidfTransformer\n",
        "from tensorflow.keras.layers.experimental.preprocessing import TextVectorization\n",
        "from sklearn.preprocessing import OneHotEncoder\n",
        "import re\n",
        "from nltk import word_tokenize, RegexpTokenizer\n",
        "from nltk.corpus import stopwords, wordnet\n",
        "import nltk\n",
        "from sklearn.model_selection import train_test_split\n",
        "import dl_translate as dlt\n",
        "nltk.download('stopwords')\n",
        "nltk.download('wordnet')"
      ]
    },
    {
      "cell_type": "markdown",
      "source": [
        "## Modelo de classificação de Tweets, treinado com 23 milhões de exemplos em inglês, sobre covid."
      ],
      "metadata": {
        "id": "wvb2SRETWjkK"
      },
      "id": "wvb2SRETWjkK"
    },
    {
      "cell_type": "code",
      "execution_count": 39,
      "id": "1cb363ec",
      "metadata": {
        "colab": {
          "base_uri": "https://localhost:8080/"
        },
        "id": "1cb363ec",
        "outputId": "e6c5e2de-5d4b-4301-cc25-f3635659272a"
      },
      "outputs": [
        {
          "output_type": "stream",
          "name": "stderr",
          "text": [
            "emoji is not installed, thus not converting emoticons or emojis into text. Install emoji: pip3 install emoji==0.6.0\n",
            "All model checkpoint layers were used when initializing TFRobertaForSequenceClassification.\n",
            "\n",
            "All the layers of TFRobertaForSequenceClassification were initialized from the model checkpoint at rabindralamsal/BERTsent.\n",
            "If your task is similar to the task the model of the checkpoint was trained on, you can already use TFRobertaForSequenceClassification for predictions without further training.\n"
          ]
        }
      ],
      "source": [
        "from transformers import AutoTokenizer, TFAutoModelForSequenceClassification\n",
        "  \n",
        "tokenizerR = AutoTokenizer.from_pretrained(\"rabindralamsal/BERTsent\")\n",
        "\n",
        "modelR = TFAutoModelForSequenceClassification.from_pretrained(\"rabindralamsal/BERTsent\")"
      ]
    },
    {
      "cell_type": "markdown",
      "source": [
        "## Exemplo de classicação com o modelo citado acima:"
      ],
      "metadata": {
        "id": "LG8nguQyXUZC"
      },
      "id": "LG8nguQyXUZC"
    },
    {
      "cell_type": "code",
      "execution_count": 40,
      "id": "adff6713",
      "metadata": {
        "colab": {
          "base_uri": "https://localhost:8080/"
        },
        "id": "adff6713",
        "outputId": "1486fa00-201f-4c2c-8738-03830e638ad2"
      },
      "outputs": [
        {
          "output_type": "stream",
          "name": "stdout",
          "text": [
            "[[0.97267216 0.02368474 0.00364307]]\n",
            "0\n"
          ]
        }
      ],
      "source": [
        "example_tweet = \"The NEET exams show our Govt in a poor light: unresponsiveness to genuine concerns; admit cards not delivered to aspirants in time; failure to provide centres in towns they reside, thus requiring unnecessary & risky travels. What a disgrace to treat our #Covid warriors like this!\"\n",
        "    \n",
        "input = tokenizerR.encode(example_tweet, return_tensors=\"tf\")\n",
        "output = modelR.predict(input)[0]\n",
        "prediction = tf.nn.softmax(output, axis=1).numpy()\n",
        "sentiment = np.argmax(prediction)\n",
        "    \n",
        "print(prediction)\n",
        "print(sentiment)"
      ]
    },
    {
      "cell_type": "markdown",
      "source": [
        "## Importação dos conjuntos de dados que foram usados."
      ],
      "metadata": {
        "id": "6crdvuTKXog6"
      },
      "id": "6crdvuTKXog6"
    },
    {
      "cell_type": "code",
      "execution_count": 6,
      "id": "fc8b5727",
      "metadata": {
        "id": "fc8b5727"
      },
      "outputs": [],
      "source": [
        "df_portuguese = pd.read_csv(\"./export_TweetSentBR.csv\")\n",
        "completo = pd.read_csv(\"./datasetcompolaridade.csv\")"
      ]
    },
    {
      "cell_type": "markdown",
      "source": [
        "## Tratamento dos dados:"
      ],
      "metadata": {
        "id": "sDnPMyoBX3IP"
      },
      "id": "sDnPMyoBX3IP"
    },
    {
      "cell_type": "code",
      "execution_count": 7,
      "id": "d7e3ee3e",
      "metadata": {
        "id": "d7e3ee3e"
      },
      "outputs": [],
      "source": [
        "completo.drop(columns = ['Unnamed: 0'], inplace = True)"
      ]
    },
    {
      "cell_type": "code",
      "execution_count": 8,
      "id": "f796c964",
      "metadata": {
        "id": "f796c964"
      },
      "outputs": [],
      "source": [
        "completo['tweets_translater_unicamp'] = completo['tweets_translater_unicamp'].replace('','')\n",
        "completo['tweets_translater_face'] = completo['tweets_translater_face'].replace('\"','')"
      ]
    },
    {
      "cell_type": "markdown",
      "source": [
        "## Conjunto de dados original:"
      ],
      "metadata": {
        "id": "VH_Bz5WsX7CB"
      },
      "id": "VH_Bz5WsX7CB"
    },
    {
      "cell_type": "code",
      "execution_count": 9,
      "id": "7441e9e7",
      "metadata": {
        "colab": {
          "base_uri": "https://localhost:8080/",
          "height": 424
        },
        "id": "7441e9e7",
        "outputId": "6d80769e-2631-4366-bb68-de91f369af65"
      },
      "outputs": [
        {
          "output_type": "execute_result",
          "data": {
            "text/plain": [
              "          id          id_twitter  \\\n",
              "0       1343  863044774588272640   \n",
              "1       1344  865583716088766467   \n",
              "2       1345  865063232201011201   \n",
              "3       1346  864668391008763905   \n",
              "4       1347  865572794016378882   \n",
              "...      ...                 ...   \n",
              "11560  12908  864636619000877056   \n",
              "11561  12909  863581588713603072   \n",
              "11562  12910  864831041349054464   \n",
              "11563  12911  863042798575951872   \n",
              "11564  12912  864681041541386240   \n",
              "\n",
              "                                                    text sentiment  \n",
              "0      Que coisa linda! O Programa #encontro estava m...         1  \n",
              "1      Por mais #Encontro com as Irmãs Galvão, adorei...         1  \n",
              "2      Mr. CATRA @OficialMrCatra lançando sua nova mú...         1  \n",
              "3      quem viu aquela lutadora modela barbuda tatuad...         0  \n",
              "4      Tô passada com esse cara.... quanta merda pode...        -1  \n",
              "...                                                  ...       ...  \n",
              "11560  eu ja to aqui pronto pro #MasterChefBR mas ain...        -1  \n",
              "11561  MALUCO! Uma coisa que eu não tenho coragem é e...        -1  \n",
              "11562    #MaisVoce @ANAMARIABRAGA  está linda @RedeGlobo         1  \n",
              "11563         Que orgulho de ti, @sportrecife! #Encontro         1  \n",
              "11564   Gente olha o bíceps desse padre #ConversaComBial         1  \n",
              "\n",
              "[11565 rows x 4 columns]"
            ],
            "text/html": [
              "\n",
              "  <div id=\"df-21637338-d030-44b5-964e-38bd80c38195\">\n",
              "    <div class=\"colab-df-container\">\n",
              "      <div>\n",
              "<style scoped>\n",
              "    .dataframe tbody tr th:only-of-type {\n",
              "        vertical-align: middle;\n",
              "    }\n",
              "\n",
              "    .dataframe tbody tr th {\n",
              "        vertical-align: top;\n",
              "    }\n",
              "\n",
              "    .dataframe thead th {\n",
              "        text-align: right;\n",
              "    }\n",
              "</style>\n",
              "<table border=\"1\" class=\"dataframe\">\n",
              "  <thead>\n",
              "    <tr style=\"text-align: right;\">\n",
              "      <th></th>\n",
              "      <th>id</th>\n",
              "      <th>id_twitter</th>\n",
              "      <th>text</th>\n",
              "      <th>sentiment</th>\n",
              "    </tr>\n",
              "  </thead>\n",
              "  <tbody>\n",
              "    <tr>\n",
              "      <th>0</th>\n",
              "      <td>1343</td>\n",
              "      <td>863044774588272640</td>\n",
              "      <td>Que coisa linda! O Programa #encontro estava m...</td>\n",
              "      <td>1</td>\n",
              "    </tr>\n",
              "    <tr>\n",
              "      <th>1</th>\n",
              "      <td>1344</td>\n",
              "      <td>865583716088766467</td>\n",
              "      <td>Por mais #Encontro com as Irmãs Galvão, adorei...</td>\n",
              "      <td>1</td>\n",
              "    </tr>\n",
              "    <tr>\n",
              "      <th>2</th>\n",
              "      <td>1345</td>\n",
              "      <td>865063232201011201</td>\n",
              "      <td>Mr. CATRA @OficialMrCatra lançando sua nova mú...</td>\n",
              "      <td>1</td>\n",
              "    </tr>\n",
              "    <tr>\n",
              "      <th>3</th>\n",
              "      <td>1346</td>\n",
              "      <td>864668391008763905</td>\n",
              "      <td>quem viu aquela lutadora modela barbuda tatuad...</td>\n",
              "      <td>0</td>\n",
              "    </tr>\n",
              "    <tr>\n",
              "      <th>4</th>\n",
              "      <td>1347</td>\n",
              "      <td>865572794016378882</td>\n",
              "      <td>Tô passada com esse cara.... quanta merda pode...</td>\n",
              "      <td>-1</td>\n",
              "    </tr>\n",
              "    <tr>\n",
              "      <th>...</th>\n",
              "      <td>...</td>\n",
              "      <td>...</td>\n",
              "      <td>...</td>\n",
              "      <td>...</td>\n",
              "    </tr>\n",
              "    <tr>\n",
              "      <th>11560</th>\n",
              "      <td>12908</td>\n",
              "      <td>864636619000877056</td>\n",
              "      <td>eu ja to aqui pronto pro #MasterChefBR mas ain...</td>\n",
              "      <td>-1</td>\n",
              "    </tr>\n",
              "    <tr>\n",
              "      <th>11561</th>\n",
              "      <td>12909</td>\n",
              "      <td>863581588713603072</td>\n",
              "      <td>MALUCO! Uma coisa que eu não tenho coragem é e...</td>\n",
              "      <td>-1</td>\n",
              "    </tr>\n",
              "    <tr>\n",
              "      <th>11562</th>\n",
              "      <td>12910</td>\n",
              "      <td>864831041349054464</td>\n",
              "      <td>#MaisVoce @ANAMARIABRAGA  está linda @RedeGlobo</td>\n",
              "      <td>1</td>\n",
              "    </tr>\n",
              "    <tr>\n",
              "      <th>11563</th>\n",
              "      <td>12911</td>\n",
              "      <td>863042798575951872</td>\n",
              "      <td>Que orgulho de ti, @sportrecife! #Encontro</td>\n",
              "      <td>1</td>\n",
              "    </tr>\n",
              "    <tr>\n",
              "      <th>11564</th>\n",
              "      <td>12912</td>\n",
              "      <td>864681041541386240</td>\n",
              "      <td>Gente olha o bíceps desse padre #ConversaComBial</td>\n",
              "      <td>1</td>\n",
              "    </tr>\n",
              "  </tbody>\n",
              "</table>\n",
              "<p>11565 rows × 4 columns</p>\n",
              "</div>\n",
              "      <button class=\"colab-df-convert\" onclick=\"convertToInteractive('df-21637338-d030-44b5-964e-38bd80c38195')\"\n",
              "              title=\"Convert this dataframe to an interactive table.\"\n",
              "              style=\"display:none;\">\n",
              "        \n",
              "  <svg xmlns=\"http://www.w3.org/2000/svg\" height=\"24px\"viewBox=\"0 0 24 24\"\n",
              "       width=\"24px\">\n",
              "    <path d=\"M0 0h24v24H0V0z\" fill=\"none\"/>\n",
              "    <path d=\"M18.56 5.44l.94 2.06.94-2.06 2.06-.94-2.06-.94-.94-2.06-.94 2.06-2.06.94zm-11 1L8.5 8.5l.94-2.06 2.06-.94-2.06-.94L8.5 2.5l-.94 2.06-2.06.94zm10 10l.94 2.06.94-2.06 2.06-.94-2.06-.94-.94-2.06-.94 2.06-2.06.94z\"/><path d=\"M17.41 7.96l-1.37-1.37c-.4-.4-.92-.59-1.43-.59-.52 0-1.04.2-1.43.59L10.3 9.45l-7.72 7.72c-.78.78-.78 2.05 0 2.83L4 21.41c.39.39.9.59 1.41.59.51 0 1.02-.2 1.41-.59l7.78-7.78 2.81-2.81c.8-.78.8-2.07 0-2.86zM5.41 20L4 18.59l7.72-7.72 1.47 1.35L5.41 20z\"/>\n",
              "  </svg>\n",
              "      </button>\n",
              "      \n",
              "  <style>\n",
              "    .colab-df-container {\n",
              "      display:flex;\n",
              "      flex-wrap:wrap;\n",
              "      gap: 12px;\n",
              "    }\n",
              "\n",
              "    .colab-df-convert {\n",
              "      background-color: #E8F0FE;\n",
              "      border: none;\n",
              "      border-radius: 50%;\n",
              "      cursor: pointer;\n",
              "      display: none;\n",
              "      fill: #1967D2;\n",
              "      height: 32px;\n",
              "      padding: 0 0 0 0;\n",
              "      width: 32px;\n",
              "    }\n",
              "\n",
              "    .colab-df-convert:hover {\n",
              "      background-color: #E2EBFA;\n",
              "      box-shadow: 0px 1px 2px rgba(60, 64, 67, 0.3), 0px 1px 3px 1px rgba(60, 64, 67, 0.15);\n",
              "      fill: #174EA6;\n",
              "    }\n",
              "\n",
              "    [theme=dark] .colab-df-convert {\n",
              "      background-color: #3B4455;\n",
              "      fill: #D2E3FC;\n",
              "    }\n",
              "\n",
              "    [theme=dark] .colab-df-convert:hover {\n",
              "      background-color: #434B5C;\n",
              "      box-shadow: 0px 1px 3px 1px rgba(0, 0, 0, 0.15);\n",
              "      filter: drop-shadow(0px 1px 2px rgba(0, 0, 0, 0.3));\n",
              "      fill: #FFFFFF;\n",
              "    }\n",
              "  </style>\n",
              "\n",
              "      <script>\n",
              "        const buttonEl =\n",
              "          document.querySelector('#df-21637338-d030-44b5-964e-38bd80c38195 button.colab-df-convert');\n",
              "        buttonEl.style.display =\n",
              "          google.colab.kernel.accessAllowed ? 'block' : 'none';\n",
              "\n",
              "        async function convertToInteractive(key) {\n",
              "          const element = document.querySelector('#df-21637338-d030-44b5-964e-38bd80c38195');\n",
              "          const dataTable =\n",
              "            await google.colab.kernel.invokeFunction('convertToInteractive',\n",
              "                                                     [key], {});\n",
              "          if (!dataTable) return;\n",
              "\n",
              "          const docLinkHtml = 'Like what you see? Visit the ' +\n",
              "            '<a target=\"_blank\" href=https://colab.research.google.com/notebooks/data_table.ipynb>data table notebook</a>'\n",
              "            + ' to learn more about interactive tables.';\n",
              "          element.innerHTML = '';\n",
              "          dataTable['output_type'] = 'display_data';\n",
              "          await google.colab.output.renderOutput(dataTable, element);\n",
              "          const docLink = document.createElement('div');\n",
              "          docLink.innerHTML = docLinkHtml;\n",
              "          element.appendChild(docLink);\n",
              "        }\n",
              "      </script>\n",
              "    </div>\n",
              "  </div>\n",
              "  "
            ]
          },
          "metadata": {},
          "execution_count": 9
        }
      ],
      "source": [
        "df_portuguese"
      ]
    },
    {
      "cell_type": "markdown",
      "source": [
        "## Pré-processamento das frases:"
      ],
      "metadata": {
        "id": "o9i4duEPcn5E"
      },
      "id": "o9i4duEPcn5E"
    },
    {
      "cell_type": "code",
      "execution_count": 10,
      "id": "16a2bd12",
      "metadata": {
        "id": "16a2bd12"
      },
      "outputs": [],
      "source": [
        "def pre_X(frases):\n",
        "    lista = []\n",
        "    \n",
        "    for frase in frases:\n",
        "        lista.append(frase)\n",
        "        \n",
        "    return lista\n",
        "\n",
        "def pre_Y(number):\n",
        "    lista = []\n",
        "    \n",
        "    for numb in number:\n",
        "        lista.append(numb)\n",
        "    \n",
        "    return lista\n"
      ]
    },
    {
      "cell_type": "code",
      "execution_count": 11,
      "id": "719331ae",
      "metadata": {
        "id": "719331ae"
      },
      "outputs": [],
      "source": [
        "def set_array(frases):\n",
        "    \n",
        "    vocab = []\n",
        "    palavras = []\n",
        "    for frase in frases:\n",
        "        \n",
        "        text_array = remove_user(frase)\n",
        "        text_array = Tokenize(text_array)\n",
        "        text_array = text_array.split(' ')\n",
        "        for i in range(len(text_array)):\n",
        "            vocab.append(text_array[i])\n",
        "    \n",
        "    \n",
        "        \n",
        "    return vocab\n",
        "\n",
        "def Tokenize(f):     ## Pre-processando a frase\n",
        "    \n",
        "    ## Colocando em minusculo\n",
        "    ## Retirando a pontuaçao\n",
        "    ## Retirando as StopWords\n",
        "    \n",
        "    f = f.lower().replace('\\n', '').replace('-','').replace('#','').replace('.','').replace(',','').replace('!','').replace('r\\n','').replace('  ','')\n",
        "    token = RegexpTokenizer(r\"\\w+\")\n",
        "    f = token.tokenize(f)\n",
        "    \n",
        "    stop_words = set(stopwords.words('portuguese'))\n",
        "    \n",
        "    new_word = [word for word in f if not word in stop_words]\n",
        "    \n",
        "    return ' '.join(new_word)\n",
        "\n",
        "def remove_user(frase):\n",
        "\n",
        "    return re.sub('@\\w+','',frase)\n",
        "\n",
        "def translater_frases(frase):\n",
        "    text_hi = frase\n",
        "    translater = mt.translate(text_hi, source=dlt.lang.PORTUGUESE, target=dlt.lang.ENGLISH)\n",
        "    \n",
        "    return translater\n",
        "\n",
        "def new_classifier(frase):\n",
        "    input = tokenizerR.encode(frase, return_tensors=\"tf\")\n",
        "    output = modelR.predict(input)[0]\n",
        "    prediction = tf.nn.softmax(output, axis=1).numpy()\n",
        "    sentiment = np.argmax(prediction)\n",
        "    \n",
        "    return sentiment \n"
      ]
    },
    {
      "cell_type": "markdown",
      "source": [
        "## Tratamento do conjunto de dados original:"
      ],
      "metadata": {
        "id": "k_okqkCSYJHV"
      },
      "id": "k_okqkCSYJHV"
    },
    {
      "cell_type": "code",
      "execution_count": 12,
      "id": "861c2ed8",
      "metadata": {
        "id": "861c2ed8"
      },
      "outputs": [],
      "source": [
        "df_remove = df_portuguese[df_portuguese['sentiment'] == '-']\n",
        "df_portuguese = df_portuguese.drop(df_remove.index)\n",
        "df_portuguese = df_portuguese.reset_index()\n",
        "df_portuguese = df_portuguese.drop(columns=['index'])\n",
        "df_portuguese['sentiment'] = df_portuguese['sentiment'].apply(lambda x: int(x))\n",
        "Tweet = df_portuguese['text']\n",
        "polarity = np.asarray(df_portuguese['sentiment'])"
      ]
    },
    {
      "cell_type": "code",
      "execution_count": 13,
      "id": "0f6db168",
      "metadata": {
        "id": "0f6db168"
      },
      "outputs": [],
      "source": [
        "df_portuguese['text'] = df_portuguese['text'].apply(remove_user)\n",
        "df_portuguese.drop(columns = ['id', 'id_twitter'], inplace = True)"
      ]
    },
    {
      "cell_type": "markdown",
      "source": [
        "## Conjunto de dados após o tratamento:"
      ],
      "metadata": {
        "id": "0NzXbyvxYYTf"
      },
      "id": "0NzXbyvxYYTf"
    },
    {
      "cell_type": "code",
      "source": [
        "df_portuguese"
      ],
      "metadata": {
        "colab": {
          "base_uri": "https://localhost:8080/",
          "height": 424
        },
        "id": "60X54TNdYQXr",
        "outputId": "b4ac45e0-53c7-4129-ec8f-f04f90720d1c"
      },
      "id": "60X54TNdYQXr",
      "execution_count": 14,
      "outputs": [
        {
          "output_type": "execute_result",
          "data": {
            "text/plain": [
              "                                                    text  sentiment\n",
              "0      Que coisa linda! O Programa #encontro estava m...          1\n",
              "1      Por mais #Encontro com as Irmãs Galvão, adorei...          1\n",
              "2      Mr. CATRA  lançando sua nova música PPK CHORA ...          1\n",
              "3      quem viu aquela lutadora modela barbuda tatuad...          0\n",
              "4      Tô passada com esse cara.... quanta merda pode...         -1\n",
              "...                                                  ...        ...\n",
              "11523  eu ja to aqui pronto pro #MasterChefBR mas ain...         -1\n",
              "11524  MALUCO! Uma coisa que eu não tenho coragem é e...         -1\n",
              "11525                            #MaisVoce   está linda           1\n",
              "11526                     Que orgulho de ti, ! #Encontro          1\n",
              "11527   Gente olha o bíceps desse padre #ConversaComBial          1\n",
              "\n",
              "[11528 rows x 2 columns]"
            ],
            "text/html": [
              "\n",
              "  <div id=\"df-000aa84c-3c70-4247-90c9-49a93a4e692c\">\n",
              "    <div class=\"colab-df-container\">\n",
              "      <div>\n",
              "<style scoped>\n",
              "    .dataframe tbody tr th:only-of-type {\n",
              "        vertical-align: middle;\n",
              "    }\n",
              "\n",
              "    .dataframe tbody tr th {\n",
              "        vertical-align: top;\n",
              "    }\n",
              "\n",
              "    .dataframe thead th {\n",
              "        text-align: right;\n",
              "    }\n",
              "</style>\n",
              "<table border=\"1\" class=\"dataframe\">\n",
              "  <thead>\n",
              "    <tr style=\"text-align: right;\">\n",
              "      <th></th>\n",
              "      <th>text</th>\n",
              "      <th>sentiment</th>\n",
              "    </tr>\n",
              "  </thead>\n",
              "  <tbody>\n",
              "    <tr>\n",
              "      <th>0</th>\n",
              "      <td>Que coisa linda! O Programa #encontro estava m...</td>\n",
              "      <td>1</td>\n",
              "    </tr>\n",
              "    <tr>\n",
              "      <th>1</th>\n",
              "      <td>Por mais #Encontro com as Irmãs Galvão, adorei...</td>\n",
              "      <td>1</td>\n",
              "    </tr>\n",
              "    <tr>\n",
              "      <th>2</th>\n",
              "      <td>Mr. CATRA  lançando sua nova música PPK CHORA ...</td>\n",
              "      <td>1</td>\n",
              "    </tr>\n",
              "    <tr>\n",
              "      <th>3</th>\n",
              "      <td>quem viu aquela lutadora modela barbuda tatuad...</td>\n",
              "      <td>0</td>\n",
              "    </tr>\n",
              "    <tr>\n",
              "      <th>4</th>\n",
              "      <td>Tô passada com esse cara.... quanta merda pode...</td>\n",
              "      <td>-1</td>\n",
              "    </tr>\n",
              "    <tr>\n",
              "      <th>...</th>\n",
              "      <td>...</td>\n",
              "      <td>...</td>\n",
              "    </tr>\n",
              "    <tr>\n",
              "      <th>11523</th>\n",
              "      <td>eu ja to aqui pronto pro #MasterChefBR mas ain...</td>\n",
              "      <td>-1</td>\n",
              "    </tr>\n",
              "    <tr>\n",
              "      <th>11524</th>\n",
              "      <td>MALUCO! Uma coisa que eu não tenho coragem é e...</td>\n",
              "      <td>-1</td>\n",
              "    </tr>\n",
              "    <tr>\n",
              "      <th>11525</th>\n",
              "      <td>#MaisVoce   está linda</td>\n",
              "      <td>1</td>\n",
              "    </tr>\n",
              "    <tr>\n",
              "      <th>11526</th>\n",
              "      <td>Que orgulho de ti, ! #Encontro</td>\n",
              "      <td>1</td>\n",
              "    </tr>\n",
              "    <tr>\n",
              "      <th>11527</th>\n",
              "      <td>Gente olha o bíceps desse padre #ConversaComBial</td>\n",
              "      <td>1</td>\n",
              "    </tr>\n",
              "  </tbody>\n",
              "</table>\n",
              "<p>11528 rows × 2 columns</p>\n",
              "</div>\n",
              "      <button class=\"colab-df-convert\" onclick=\"convertToInteractive('df-000aa84c-3c70-4247-90c9-49a93a4e692c')\"\n",
              "              title=\"Convert this dataframe to an interactive table.\"\n",
              "              style=\"display:none;\">\n",
              "        \n",
              "  <svg xmlns=\"http://www.w3.org/2000/svg\" height=\"24px\"viewBox=\"0 0 24 24\"\n",
              "       width=\"24px\">\n",
              "    <path d=\"M0 0h24v24H0V0z\" fill=\"none\"/>\n",
              "    <path d=\"M18.56 5.44l.94 2.06.94-2.06 2.06-.94-2.06-.94-.94-2.06-.94 2.06-2.06.94zm-11 1L8.5 8.5l.94-2.06 2.06-.94-2.06-.94L8.5 2.5l-.94 2.06-2.06.94zm10 10l.94 2.06.94-2.06 2.06-.94-2.06-.94-.94-2.06-.94 2.06-2.06.94z\"/><path d=\"M17.41 7.96l-1.37-1.37c-.4-.4-.92-.59-1.43-.59-.52 0-1.04.2-1.43.59L10.3 9.45l-7.72 7.72c-.78.78-.78 2.05 0 2.83L4 21.41c.39.39.9.59 1.41.59.51 0 1.02-.2 1.41-.59l7.78-7.78 2.81-2.81c.8-.78.8-2.07 0-2.86zM5.41 20L4 18.59l7.72-7.72 1.47 1.35L5.41 20z\"/>\n",
              "  </svg>\n",
              "      </button>\n",
              "      \n",
              "  <style>\n",
              "    .colab-df-container {\n",
              "      display:flex;\n",
              "      flex-wrap:wrap;\n",
              "      gap: 12px;\n",
              "    }\n",
              "\n",
              "    .colab-df-convert {\n",
              "      background-color: #E8F0FE;\n",
              "      border: none;\n",
              "      border-radius: 50%;\n",
              "      cursor: pointer;\n",
              "      display: none;\n",
              "      fill: #1967D2;\n",
              "      height: 32px;\n",
              "      padding: 0 0 0 0;\n",
              "      width: 32px;\n",
              "    }\n",
              "\n",
              "    .colab-df-convert:hover {\n",
              "      background-color: #E2EBFA;\n",
              "      box-shadow: 0px 1px 2px rgba(60, 64, 67, 0.3), 0px 1px 3px 1px rgba(60, 64, 67, 0.15);\n",
              "      fill: #174EA6;\n",
              "    }\n",
              "\n",
              "    [theme=dark] .colab-df-convert {\n",
              "      background-color: #3B4455;\n",
              "      fill: #D2E3FC;\n",
              "    }\n",
              "\n",
              "    [theme=dark] .colab-df-convert:hover {\n",
              "      background-color: #434B5C;\n",
              "      box-shadow: 0px 1px 3px 1px rgba(0, 0, 0, 0.15);\n",
              "      filter: drop-shadow(0px 1px 2px rgba(0, 0, 0, 0.3));\n",
              "      fill: #FFFFFF;\n",
              "    }\n",
              "  </style>\n",
              "\n",
              "      <script>\n",
              "        const buttonEl =\n",
              "          document.querySelector('#df-000aa84c-3c70-4247-90c9-49a93a4e692c button.colab-df-convert');\n",
              "        buttonEl.style.display =\n",
              "          google.colab.kernel.accessAllowed ? 'block' : 'none';\n",
              "\n",
              "        async function convertToInteractive(key) {\n",
              "          const element = document.querySelector('#df-000aa84c-3c70-4247-90c9-49a93a4e692c');\n",
              "          const dataTable =\n",
              "            await google.colab.kernel.invokeFunction('convertToInteractive',\n",
              "                                                     [key], {});\n",
              "          if (!dataTable) return;\n",
              "\n",
              "          const docLinkHtml = 'Like what you see? Visit the ' +\n",
              "            '<a target=\"_blank\" href=https://colab.research.google.com/notebooks/data_table.ipynb>data table notebook</a>'\n",
              "            + ' to learn more about interactive tables.';\n",
              "          element.innerHTML = '';\n",
              "          dataTable['output_type'] = 'display_data';\n",
              "          await google.colab.output.renderOutput(dataTable, element);\n",
              "          const docLink = document.createElement('div');\n",
              "          docLink.innerHTML = docLinkHtml;\n",
              "          element.appendChild(docLink);\n",
              "        }\n",
              "      </script>\n",
              "    </div>\n",
              "  </div>\n",
              "  "
            ]
          },
          "metadata": {},
          "execution_count": 14
        }
      ]
    },
    {
      "cell_type": "markdown",
      "source": [
        "## Modelos de tradução usados, são eles o Unicamp dl translation e dl translater m2m100 do Facebook:"
      ],
      "metadata": {
        "id": "9106duQabWf-"
      },
      "id": "9106duQabWf-"
    },
    {
      "cell_type": "code",
      "source": [
        "tokenizer = AutoTokenizer.from_pretrained(\"unicamp-dl/translation-pt-en-t5\")\n",
        "model = AutoModelForSeq2SeqLM.from_pretrained(\"unicamp-dl/translation-pt-en-t5\")\n",
        "pten_pipeline = pipeline('text2text-generation', model=model, tokenizer=tokenizer)\n",
        "mt = dlt.TranslationModel()"
      ],
      "metadata": {
        "id": "kDy0ouQzZJ7c"
      },
      "id": "kDy0ouQzZJ7c",
      "execution_count": 41,
      "outputs": []
    },
    {
      "cell_type": "markdown",
      "source": [
        "## Tratamento dos dados após as traduções:"
      ],
      "metadata": {
        "id": "5A0OxjplbvIm"
      },
      "id": "5A0OxjplbvIm"
    },
    {
      "cell_type": "code",
      "execution_count": 16,
      "id": "17e17894",
      "metadata": {
        "id": "17e17894"
      },
      "outputs": [],
      "source": [
        "completo = completo.dropna().reset_index().drop(columns = ['index'])\n",
        "completo = completo.drop(columns= ['tweets_translater_unicamp'])"
      ]
    },
    {
      "cell_type": "markdown",
      "source": [
        "## Conjunto de dados completo:"
      ],
      "metadata": {
        "id": "MVYBIs42b1Mg"
      },
      "id": "MVYBIs42b1Mg"
    },
    {
      "cell_type": "code",
      "execution_count": 17,
      "id": "1f21fc34",
      "metadata": {
        "colab": {
          "base_uri": "https://localhost:8080/",
          "height": 424
        },
        "id": "1f21fc34",
        "outputId": "7224806e-ae92-4c81-c500-134f9f55fe5c"
      },
      "outputs": [
        {
          "output_type": "execute_result",
          "data": {
            "text/plain": [
              "                                         tweets_original  \\\n",
              "0      Que coisa linda! O Programa #encontro estava m...   \n",
              "1      Por mais #Encontro com as Irmãs Galvão, adorei...   \n",
              "2      Mr. CATRA  lançando sua nova música PPK CHORA ...   \n",
              "3      quem viu aquela lutadora modela barbuda tatuad...   \n",
              "4      Tô passada com esse cara.... quanta merda pode...   \n",
              "...                                                  ...   \n",
              "11505  a animação da filha da vanessa da mata é de se...   \n",
              "11506  eu ja to aqui pronto pro #MasterChefBR mas ain...   \n",
              "11507  MALUCO! Uma coisa que eu não tenho coragem é e...   \n",
              "11508                            #MaisVoce   está linda    \n",
              "11509                     Que orgulho de ti, ! #Encontro   \n",
              "\n",
              "                                  tweets_translater_face  polaridade  \n",
              "0      What a beautiful thing! The #touch program was...         1.0  \n",
              "1      For more I met with the Galvan Sisters, I love...         1.0  \n",
              "2      Mr. CATRA releases his new song PPK CHORA on k...         1.0  \n",
              "3      Who saw that fighter model tattooed? #MasterCh...         0.0  \n",
              "4      How much shit can come out of someone’s mouth ...        -1.0  \n",
              "...                                                  ...         ...  \n",
              "11505  The animation of the daughter of the vanessa o...         1.0  \n",
              "11506  I'm ready to go here for #MasterChefBR but I'm...        -1.0  \n",
              "11507  One thing I don’t have the courage is that nor...        -1.0  \n",
              "11508                             #MaisVoce is beautiful         1.0  \n",
              "11509                           I am proud of you! #Meet         1.0  \n",
              "\n",
              "[11510 rows x 3 columns]"
            ],
            "text/html": [
              "\n",
              "  <div id=\"df-b724c6ce-6999-4ee2-aba0-aca65c674047\">\n",
              "    <div class=\"colab-df-container\">\n",
              "      <div>\n",
              "<style scoped>\n",
              "    .dataframe tbody tr th:only-of-type {\n",
              "        vertical-align: middle;\n",
              "    }\n",
              "\n",
              "    .dataframe tbody tr th {\n",
              "        vertical-align: top;\n",
              "    }\n",
              "\n",
              "    .dataframe thead th {\n",
              "        text-align: right;\n",
              "    }\n",
              "</style>\n",
              "<table border=\"1\" class=\"dataframe\">\n",
              "  <thead>\n",
              "    <tr style=\"text-align: right;\">\n",
              "      <th></th>\n",
              "      <th>tweets_original</th>\n",
              "      <th>tweets_translater_face</th>\n",
              "      <th>polaridade</th>\n",
              "    </tr>\n",
              "  </thead>\n",
              "  <tbody>\n",
              "    <tr>\n",
              "      <th>0</th>\n",
              "      <td>Que coisa linda! O Programa #encontro estava m...</td>\n",
              "      <td>What a beautiful thing! The #touch program was...</td>\n",
              "      <td>1.0</td>\n",
              "    </tr>\n",
              "    <tr>\n",
              "      <th>1</th>\n",
              "      <td>Por mais #Encontro com as Irmãs Galvão, adorei...</td>\n",
              "      <td>For more I met with the Galvan Sisters, I love...</td>\n",
              "      <td>1.0</td>\n",
              "    </tr>\n",
              "    <tr>\n",
              "      <th>2</th>\n",
              "      <td>Mr. CATRA  lançando sua nova música PPK CHORA ...</td>\n",
              "      <td>Mr. CATRA releases his new song PPK CHORA on k...</td>\n",
              "      <td>1.0</td>\n",
              "    </tr>\n",
              "    <tr>\n",
              "      <th>3</th>\n",
              "      <td>quem viu aquela lutadora modela barbuda tatuad...</td>\n",
              "      <td>Who saw that fighter model tattooed? #MasterCh...</td>\n",
              "      <td>0.0</td>\n",
              "    </tr>\n",
              "    <tr>\n",
              "      <th>4</th>\n",
              "      <td>Tô passada com esse cara.... quanta merda pode...</td>\n",
              "      <td>How much shit can come out of someone’s mouth ...</td>\n",
              "      <td>-1.0</td>\n",
              "    </tr>\n",
              "    <tr>\n",
              "      <th>...</th>\n",
              "      <td>...</td>\n",
              "      <td>...</td>\n",
              "      <td>...</td>\n",
              "    </tr>\n",
              "    <tr>\n",
              "      <th>11505</th>\n",
              "      <td>a animação da filha da vanessa da mata é de se...</td>\n",
              "      <td>The animation of the daughter of the vanessa o...</td>\n",
              "      <td>1.0</td>\n",
              "    </tr>\n",
              "    <tr>\n",
              "      <th>11506</th>\n",
              "      <td>eu ja to aqui pronto pro #MasterChefBR mas ain...</td>\n",
              "      <td>I'm ready to go here for #MasterChefBR but I'm...</td>\n",
              "      <td>-1.0</td>\n",
              "    </tr>\n",
              "    <tr>\n",
              "      <th>11507</th>\n",
              "      <td>MALUCO! Uma coisa que eu não tenho coragem é e...</td>\n",
              "      <td>One thing I don’t have the courage is that nor...</td>\n",
              "      <td>-1.0</td>\n",
              "    </tr>\n",
              "    <tr>\n",
              "      <th>11508</th>\n",
              "      <td>#MaisVoce   está linda</td>\n",
              "      <td>#MaisVoce is beautiful</td>\n",
              "      <td>1.0</td>\n",
              "    </tr>\n",
              "    <tr>\n",
              "      <th>11509</th>\n",
              "      <td>Que orgulho de ti, ! #Encontro</td>\n",
              "      <td>I am proud of you! #Meet</td>\n",
              "      <td>1.0</td>\n",
              "    </tr>\n",
              "  </tbody>\n",
              "</table>\n",
              "<p>11510 rows × 3 columns</p>\n",
              "</div>\n",
              "      <button class=\"colab-df-convert\" onclick=\"convertToInteractive('df-b724c6ce-6999-4ee2-aba0-aca65c674047')\"\n",
              "              title=\"Convert this dataframe to an interactive table.\"\n",
              "              style=\"display:none;\">\n",
              "        \n",
              "  <svg xmlns=\"http://www.w3.org/2000/svg\" height=\"24px\"viewBox=\"0 0 24 24\"\n",
              "       width=\"24px\">\n",
              "    <path d=\"M0 0h24v24H0V0z\" fill=\"none\"/>\n",
              "    <path d=\"M18.56 5.44l.94 2.06.94-2.06 2.06-.94-2.06-.94-.94-2.06-.94 2.06-2.06.94zm-11 1L8.5 8.5l.94-2.06 2.06-.94-2.06-.94L8.5 2.5l-.94 2.06-2.06.94zm10 10l.94 2.06.94-2.06 2.06-.94-2.06-.94-.94-2.06-.94 2.06-2.06.94z\"/><path d=\"M17.41 7.96l-1.37-1.37c-.4-.4-.92-.59-1.43-.59-.52 0-1.04.2-1.43.59L10.3 9.45l-7.72 7.72c-.78.78-.78 2.05 0 2.83L4 21.41c.39.39.9.59 1.41.59.51 0 1.02-.2 1.41-.59l7.78-7.78 2.81-2.81c.8-.78.8-2.07 0-2.86zM5.41 20L4 18.59l7.72-7.72 1.47 1.35L5.41 20z\"/>\n",
              "  </svg>\n",
              "      </button>\n",
              "      \n",
              "  <style>\n",
              "    .colab-df-container {\n",
              "      display:flex;\n",
              "      flex-wrap:wrap;\n",
              "      gap: 12px;\n",
              "    }\n",
              "\n",
              "    .colab-df-convert {\n",
              "      background-color: #E8F0FE;\n",
              "      border: none;\n",
              "      border-radius: 50%;\n",
              "      cursor: pointer;\n",
              "      display: none;\n",
              "      fill: #1967D2;\n",
              "      height: 32px;\n",
              "      padding: 0 0 0 0;\n",
              "      width: 32px;\n",
              "    }\n",
              "\n",
              "    .colab-df-convert:hover {\n",
              "      background-color: #E2EBFA;\n",
              "      box-shadow: 0px 1px 2px rgba(60, 64, 67, 0.3), 0px 1px 3px 1px rgba(60, 64, 67, 0.15);\n",
              "      fill: #174EA6;\n",
              "    }\n",
              "\n",
              "    [theme=dark] .colab-df-convert {\n",
              "      background-color: #3B4455;\n",
              "      fill: #D2E3FC;\n",
              "    }\n",
              "\n",
              "    [theme=dark] .colab-df-convert:hover {\n",
              "      background-color: #434B5C;\n",
              "      box-shadow: 0px 1px 3px 1px rgba(0, 0, 0, 0.15);\n",
              "      filter: drop-shadow(0px 1px 2px rgba(0, 0, 0, 0.3));\n",
              "      fill: #FFFFFF;\n",
              "    }\n",
              "  </style>\n",
              "\n",
              "      <script>\n",
              "        const buttonEl =\n",
              "          document.querySelector('#df-b724c6ce-6999-4ee2-aba0-aca65c674047 button.colab-df-convert');\n",
              "        buttonEl.style.display =\n",
              "          google.colab.kernel.accessAllowed ? 'block' : 'none';\n",
              "\n",
              "        async function convertToInteractive(key) {\n",
              "          const element = document.querySelector('#df-b724c6ce-6999-4ee2-aba0-aca65c674047');\n",
              "          const dataTable =\n",
              "            await google.colab.kernel.invokeFunction('convertToInteractive',\n",
              "                                                     [key], {});\n",
              "          if (!dataTable) return;\n",
              "\n",
              "          const docLinkHtml = 'Like what you see? Visit the ' +\n",
              "            '<a target=\"_blank\" href=https://colab.research.google.com/notebooks/data_table.ipynb>data table notebook</a>'\n",
              "            + ' to learn more about interactive tables.';\n",
              "          element.innerHTML = '';\n",
              "          dataTable['output_type'] = 'display_data';\n",
              "          await google.colab.output.renderOutput(dataTable, element);\n",
              "          const docLink = document.createElement('div');\n",
              "          docLink.innerHTML = docLinkHtml;\n",
              "          element.appendChild(docLink);\n",
              "        }\n",
              "      </script>\n",
              "    </div>\n",
              "  </div>\n",
              "  "
            ]
          },
          "metadata": {},
          "execution_count": 17
        }
      ],
      "source": [
        "completo"
      ]
    },
    {
      "cell_type": "code",
      "source": [
        "classificacao = pd.DataFrame( data = {'classificaçãorabin_facetranslater': completo['tweets_translater_face'].apply(new_classifier)})"
      ],
      "metadata": {
        "id": "Wl-tKYXZ-Tbl"
      },
      "id": "Wl-tKYXZ-Tbl",
      "execution_count": 18,
      "outputs": []
    },
    {
      "cell_type": "markdown",
      "source": [
        "## Data frame com as classificações dos textos após as traduções com os modelos do Hugging e BERTsent:"
      ],
      "metadata": {
        "id": "iJX7JsKAc6yQ"
      },
      "id": "iJX7JsKAc6yQ"
    },
    {
      "cell_type": "code",
      "source": [
        "classificacao"
      ],
      "metadata": {
        "colab": {
          "base_uri": "https://localhost:8080/",
          "height": 424
        },
        "id": "TwuAGo_g_I2L",
        "outputId": "22f28d1d-d354-4f78-c884-c73b0fa89409"
      },
      "id": "TwuAGo_g_I2L",
      "execution_count": 19,
      "outputs": [
        {
          "output_type": "execute_result",
          "data": {
            "text/plain": [
              "       classificaçãorabin_facetranslater\n",
              "0                                      2\n",
              "1                                      2\n",
              "2                                      1\n",
              "3                                      1\n",
              "4                                      0\n",
              "...                                  ...\n",
              "11505                                  1\n",
              "11506                                  0\n",
              "11507                                  0\n",
              "11508                                  2\n",
              "11509                                  2\n",
              "\n",
              "[11510 rows x 1 columns]"
            ],
            "text/html": [
              "\n",
              "  <div id=\"df-2384745d-208a-48fe-a162-f6cb0414bcff\">\n",
              "    <div class=\"colab-df-container\">\n",
              "      <div>\n",
              "<style scoped>\n",
              "    .dataframe tbody tr th:only-of-type {\n",
              "        vertical-align: middle;\n",
              "    }\n",
              "\n",
              "    .dataframe tbody tr th {\n",
              "        vertical-align: top;\n",
              "    }\n",
              "\n",
              "    .dataframe thead th {\n",
              "        text-align: right;\n",
              "    }\n",
              "</style>\n",
              "<table border=\"1\" class=\"dataframe\">\n",
              "  <thead>\n",
              "    <tr style=\"text-align: right;\">\n",
              "      <th></th>\n",
              "      <th>classificaçãorabin_facetranslater</th>\n",
              "    </tr>\n",
              "  </thead>\n",
              "  <tbody>\n",
              "    <tr>\n",
              "      <th>0</th>\n",
              "      <td>2</td>\n",
              "    </tr>\n",
              "    <tr>\n",
              "      <th>1</th>\n",
              "      <td>2</td>\n",
              "    </tr>\n",
              "    <tr>\n",
              "      <th>2</th>\n",
              "      <td>1</td>\n",
              "    </tr>\n",
              "    <tr>\n",
              "      <th>3</th>\n",
              "      <td>1</td>\n",
              "    </tr>\n",
              "    <tr>\n",
              "      <th>4</th>\n",
              "      <td>0</td>\n",
              "    </tr>\n",
              "    <tr>\n",
              "      <th>...</th>\n",
              "      <td>...</td>\n",
              "    </tr>\n",
              "    <tr>\n",
              "      <th>11505</th>\n",
              "      <td>1</td>\n",
              "    </tr>\n",
              "    <tr>\n",
              "      <th>11506</th>\n",
              "      <td>0</td>\n",
              "    </tr>\n",
              "    <tr>\n",
              "      <th>11507</th>\n",
              "      <td>0</td>\n",
              "    </tr>\n",
              "    <tr>\n",
              "      <th>11508</th>\n",
              "      <td>2</td>\n",
              "    </tr>\n",
              "    <tr>\n",
              "      <th>11509</th>\n",
              "      <td>2</td>\n",
              "    </tr>\n",
              "  </tbody>\n",
              "</table>\n",
              "<p>11510 rows × 1 columns</p>\n",
              "</div>\n",
              "      <button class=\"colab-df-convert\" onclick=\"convertToInteractive('df-2384745d-208a-48fe-a162-f6cb0414bcff')\"\n",
              "              title=\"Convert this dataframe to an interactive table.\"\n",
              "              style=\"display:none;\">\n",
              "        \n",
              "  <svg xmlns=\"http://www.w3.org/2000/svg\" height=\"24px\"viewBox=\"0 0 24 24\"\n",
              "       width=\"24px\">\n",
              "    <path d=\"M0 0h24v24H0V0z\" fill=\"none\"/>\n",
              "    <path d=\"M18.56 5.44l.94 2.06.94-2.06 2.06-.94-2.06-.94-.94-2.06-.94 2.06-2.06.94zm-11 1L8.5 8.5l.94-2.06 2.06-.94-2.06-.94L8.5 2.5l-.94 2.06-2.06.94zm10 10l.94 2.06.94-2.06 2.06-.94-2.06-.94-.94-2.06-.94 2.06-2.06.94z\"/><path d=\"M17.41 7.96l-1.37-1.37c-.4-.4-.92-.59-1.43-.59-.52 0-1.04.2-1.43.59L10.3 9.45l-7.72 7.72c-.78.78-.78 2.05 0 2.83L4 21.41c.39.39.9.59 1.41.59.51 0 1.02-.2 1.41-.59l7.78-7.78 2.81-2.81c.8-.78.8-2.07 0-2.86zM5.41 20L4 18.59l7.72-7.72 1.47 1.35L5.41 20z\"/>\n",
              "  </svg>\n",
              "      </button>\n",
              "      \n",
              "  <style>\n",
              "    .colab-df-container {\n",
              "      display:flex;\n",
              "      flex-wrap:wrap;\n",
              "      gap: 12px;\n",
              "    }\n",
              "\n",
              "    .colab-df-convert {\n",
              "      background-color: #E8F0FE;\n",
              "      border: none;\n",
              "      border-radius: 50%;\n",
              "      cursor: pointer;\n",
              "      display: none;\n",
              "      fill: #1967D2;\n",
              "      height: 32px;\n",
              "      padding: 0 0 0 0;\n",
              "      width: 32px;\n",
              "    }\n",
              "\n",
              "    .colab-df-convert:hover {\n",
              "      background-color: #E2EBFA;\n",
              "      box-shadow: 0px 1px 2px rgba(60, 64, 67, 0.3), 0px 1px 3px 1px rgba(60, 64, 67, 0.15);\n",
              "      fill: #174EA6;\n",
              "    }\n",
              "\n",
              "    [theme=dark] .colab-df-convert {\n",
              "      background-color: #3B4455;\n",
              "      fill: #D2E3FC;\n",
              "    }\n",
              "\n",
              "    [theme=dark] .colab-df-convert:hover {\n",
              "      background-color: #434B5C;\n",
              "      box-shadow: 0px 1px 3px 1px rgba(0, 0, 0, 0.15);\n",
              "      filter: drop-shadow(0px 1px 2px rgba(0, 0, 0, 0.3));\n",
              "      fill: #FFFFFF;\n",
              "    }\n",
              "  </style>\n",
              "\n",
              "      <script>\n",
              "        const buttonEl =\n",
              "          document.querySelector('#df-2384745d-208a-48fe-a162-f6cb0414bcff button.colab-df-convert');\n",
              "        buttonEl.style.display =\n",
              "          google.colab.kernel.accessAllowed ? 'block' : 'none';\n",
              "\n",
              "        async function convertToInteractive(key) {\n",
              "          const element = document.querySelector('#df-2384745d-208a-48fe-a162-f6cb0414bcff');\n",
              "          const dataTable =\n",
              "            await google.colab.kernel.invokeFunction('convertToInteractive',\n",
              "                                                     [key], {});\n",
              "          if (!dataTable) return;\n",
              "\n",
              "          const docLinkHtml = 'Like what you see? Visit the ' +\n",
              "            '<a target=\"_blank\" href=https://colab.research.google.com/notebooks/data_table.ipynb>data table notebook</a>'\n",
              "            + ' to learn more about interactive tables.';\n",
              "          element.innerHTML = '';\n",
              "          dataTable['output_type'] = 'display_data';\n",
              "          await google.colab.output.renderOutput(dataTable, element);\n",
              "          const docLink = document.createElement('div');\n",
              "          docLink.innerHTML = docLinkHtml;\n",
              "          element.appendChild(docLink);\n",
              "        }\n",
              "      </script>\n",
              "    </div>\n",
              "  </div>\n",
              "  "
            ]
          },
          "metadata": {},
          "execution_count": 19
        }
      ]
    },
    {
      "cell_type": "markdown",
      "source": [
        "## Replace para comparação das polaridades."
      ],
      "metadata": {
        "id": "YEJv4DRyk4jJ"
      },
      "id": "YEJv4DRyk4jJ"
    },
    {
      "cell_type": "code",
      "execution_count": 20,
      "id": "78693ef5",
      "metadata": {
        "id": "78693ef5"
      },
      "outputs": [],
      "source": [
        "classificacao['classificaçãorabin_facetranslater'] = classificacao['classificaçãorabin_facetranslater'].replace(0, -1).replace(1,0).replace(2,1)"
      ]
    },
    {
      "cell_type": "code",
      "execution_count": 21,
      "id": "aba0ae45",
      "metadata": {
        "id": "aba0ae45",
        "outputId": "a074e1fc-d724-4e36-cb52-f767ce0d23bc",
        "colab": {
          "base_uri": "https://localhost:8080/",
          "height": 424
        }
      },
      "outputs": [
        {
          "output_type": "execute_result",
          "data": {
            "text/plain": [
              "       classificaçãorabin_facetranslater\n",
              "0                                      1\n",
              "1                                      1\n",
              "2                                      0\n",
              "3                                      0\n",
              "4                                     -1\n",
              "...                                  ...\n",
              "11505                                  0\n",
              "11506                                 -1\n",
              "11507                                 -1\n",
              "11508                                  1\n",
              "11509                                  1\n",
              "\n",
              "[11510 rows x 1 columns]"
            ],
            "text/html": [
              "\n",
              "  <div id=\"df-9b179aa2-98a7-442a-9a65-cb61ab813bf4\">\n",
              "    <div class=\"colab-df-container\">\n",
              "      <div>\n",
              "<style scoped>\n",
              "    .dataframe tbody tr th:only-of-type {\n",
              "        vertical-align: middle;\n",
              "    }\n",
              "\n",
              "    .dataframe tbody tr th {\n",
              "        vertical-align: top;\n",
              "    }\n",
              "\n",
              "    .dataframe thead th {\n",
              "        text-align: right;\n",
              "    }\n",
              "</style>\n",
              "<table border=\"1\" class=\"dataframe\">\n",
              "  <thead>\n",
              "    <tr style=\"text-align: right;\">\n",
              "      <th></th>\n",
              "      <th>classificaçãorabin_facetranslater</th>\n",
              "    </tr>\n",
              "  </thead>\n",
              "  <tbody>\n",
              "    <tr>\n",
              "      <th>0</th>\n",
              "      <td>1</td>\n",
              "    </tr>\n",
              "    <tr>\n",
              "      <th>1</th>\n",
              "      <td>1</td>\n",
              "    </tr>\n",
              "    <tr>\n",
              "      <th>2</th>\n",
              "      <td>0</td>\n",
              "    </tr>\n",
              "    <tr>\n",
              "      <th>3</th>\n",
              "      <td>0</td>\n",
              "    </tr>\n",
              "    <tr>\n",
              "      <th>4</th>\n",
              "      <td>-1</td>\n",
              "    </tr>\n",
              "    <tr>\n",
              "      <th>...</th>\n",
              "      <td>...</td>\n",
              "    </tr>\n",
              "    <tr>\n",
              "      <th>11505</th>\n",
              "      <td>0</td>\n",
              "    </tr>\n",
              "    <tr>\n",
              "      <th>11506</th>\n",
              "      <td>-1</td>\n",
              "    </tr>\n",
              "    <tr>\n",
              "      <th>11507</th>\n",
              "      <td>-1</td>\n",
              "    </tr>\n",
              "    <tr>\n",
              "      <th>11508</th>\n",
              "      <td>1</td>\n",
              "    </tr>\n",
              "    <tr>\n",
              "      <th>11509</th>\n",
              "      <td>1</td>\n",
              "    </tr>\n",
              "  </tbody>\n",
              "</table>\n",
              "<p>11510 rows × 1 columns</p>\n",
              "</div>\n",
              "      <button class=\"colab-df-convert\" onclick=\"convertToInteractive('df-9b179aa2-98a7-442a-9a65-cb61ab813bf4')\"\n",
              "              title=\"Convert this dataframe to an interactive table.\"\n",
              "              style=\"display:none;\">\n",
              "        \n",
              "  <svg xmlns=\"http://www.w3.org/2000/svg\" height=\"24px\"viewBox=\"0 0 24 24\"\n",
              "       width=\"24px\">\n",
              "    <path d=\"M0 0h24v24H0V0z\" fill=\"none\"/>\n",
              "    <path d=\"M18.56 5.44l.94 2.06.94-2.06 2.06-.94-2.06-.94-.94-2.06-.94 2.06-2.06.94zm-11 1L8.5 8.5l.94-2.06 2.06-.94-2.06-.94L8.5 2.5l-.94 2.06-2.06.94zm10 10l.94 2.06.94-2.06 2.06-.94-2.06-.94-.94-2.06-.94 2.06-2.06.94z\"/><path d=\"M17.41 7.96l-1.37-1.37c-.4-.4-.92-.59-1.43-.59-.52 0-1.04.2-1.43.59L10.3 9.45l-7.72 7.72c-.78.78-.78 2.05 0 2.83L4 21.41c.39.39.9.59 1.41.59.51 0 1.02-.2 1.41-.59l7.78-7.78 2.81-2.81c.8-.78.8-2.07 0-2.86zM5.41 20L4 18.59l7.72-7.72 1.47 1.35L5.41 20z\"/>\n",
              "  </svg>\n",
              "      </button>\n",
              "      \n",
              "  <style>\n",
              "    .colab-df-container {\n",
              "      display:flex;\n",
              "      flex-wrap:wrap;\n",
              "      gap: 12px;\n",
              "    }\n",
              "\n",
              "    .colab-df-convert {\n",
              "      background-color: #E8F0FE;\n",
              "      border: none;\n",
              "      border-radius: 50%;\n",
              "      cursor: pointer;\n",
              "      display: none;\n",
              "      fill: #1967D2;\n",
              "      height: 32px;\n",
              "      padding: 0 0 0 0;\n",
              "      width: 32px;\n",
              "    }\n",
              "\n",
              "    .colab-df-convert:hover {\n",
              "      background-color: #E2EBFA;\n",
              "      box-shadow: 0px 1px 2px rgba(60, 64, 67, 0.3), 0px 1px 3px 1px rgba(60, 64, 67, 0.15);\n",
              "      fill: #174EA6;\n",
              "    }\n",
              "\n",
              "    [theme=dark] .colab-df-convert {\n",
              "      background-color: #3B4455;\n",
              "      fill: #D2E3FC;\n",
              "    }\n",
              "\n",
              "    [theme=dark] .colab-df-convert:hover {\n",
              "      background-color: #434B5C;\n",
              "      box-shadow: 0px 1px 3px 1px rgba(0, 0, 0, 0.15);\n",
              "      filter: drop-shadow(0px 1px 2px rgba(0, 0, 0, 0.3));\n",
              "      fill: #FFFFFF;\n",
              "    }\n",
              "  </style>\n",
              "\n",
              "      <script>\n",
              "        const buttonEl =\n",
              "          document.querySelector('#df-9b179aa2-98a7-442a-9a65-cb61ab813bf4 button.colab-df-convert');\n",
              "        buttonEl.style.display =\n",
              "          google.colab.kernel.accessAllowed ? 'block' : 'none';\n",
              "\n",
              "        async function convertToInteractive(key) {\n",
              "          const element = document.querySelector('#df-9b179aa2-98a7-442a-9a65-cb61ab813bf4');\n",
              "          const dataTable =\n",
              "            await google.colab.kernel.invokeFunction('convertToInteractive',\n",
              "                                                     [key], {});\n",
              "          if (!dataTable) return;\n",
              "\n",
              "          const docLinkHtml = 'Like what you see? Visit the ' +\n",
              "            '<a target=\"_blank\" href=https://colab.research.google.com/notebooks/data_table.ipynb>data table notebook</a>'\n",
              "            + ' to learn more about interactive tables.';\n",
              "          element.innerHTML = '';\n",
              "          dataTable['output_type'] = 'display_data';\n",
              "          await google.colab.output.renderOutput(dataTable, element);\n",
              "          const docLink = document.createElement('div');\n",
              "          docLink.innerHTML = docLinkHtml;\n",
              "          element.appendChild(docLink);\n",
              "        }\n",
              "      </script>\n",
              "    </div>\n",
              "  </div>\n",
              "  "
            ]
          },
          "metadata": {},
          "execution_count": 21
        }
      ],
      "source": [
        "classificacao"
      ]
    },
    {
      "cell_type": "markdown",
      "id": "655aa45e",
      "metadata": {
        "id": "655aa45e"
      },
      "source": [
        "## Acuracia da origem com classificador do rabin e traduzido com o tradutor do Facebook"
      ]
    },
    {
      "cell_type": "code",
      "execution_count": 22,
      "id": "fafae750",
      "metadata": {
        "id": "fafae750",
        "outputId": "2fd8e253-d64b-422e-90aa-f793c561956b",
        "colab": {
          "base_uri": "https://localhost:8080/"
        }
      },
      "outputs": [
        {
          "output_type": "execute_result",
          "data": {
            "text/plain": [
              "0.47002606429192006"
            ]
          },
          "metadata": {},
          "execution_count": 22
        }
      ],
      "source": [
        "soma = 0\n",
        "for i in range (len(completo)):\n",
        "      if(int(completo['polaridade'][i]) == int(classificacao['classificaçãorabin_facetranslater'][i])):\n",
        "        soma+=1\n",
        "\n",
        "soma/len(classificacao)"
      ]
    },
    {
      "cell_type": "markdown",
      "source": [
        "## Rede conv1d:"
      ],
      "metadata": {
        "id": "8pday_e6k2sA"
      },
      "id": "8pday_e6k2sA"
    },
    {
      "cell_type": "code",
      "source": [
        "vectorize_layer = TextVectorization(\n",
        " max_tokens=15000,\n",
        " output_mode='int',\n",
        " output_sequence_length=len(max(completo['tweets_original'])))\n",
        "\n",
        "vocab = set_array(completo['tweets_original'])\n",
        "\n",
        "vectorize_layer.adapt(np.unique(vocab))\n",
        "len(vectorize_layer.get_vocabulary())"
      ],
      "metadata": {
        "colab": {
          "base_uri": "https://localhost:8080/"
        },
        "id": "tk6EH93Dqtwh",
        "outputId": "23eb2c81-9a85-489f-de2d-7760ace86114"
      },
      "id": "tk6EH93Dqtwh",
      "execution_count": 31,
      "outputs": [
        {
          "output_type": "execute_result",
          "data": {
            "text/plain": [
              "14727"
            ]
          },
          "metadata": {},
          "execution_count": 31
        }
      ]
    },
    {
      "cell_type": "code",
      "source": [
        "one = OneHotEncoder(sparse=False)"
      ],
      "metadata": {
        "id": "o-DwGveNXGYg"
      },
      "id": "o-DwGveNXGYg",
      "execution_count": 32,
      "outputs": []
    },
    {
      "cell_type": "code",
      "source": [
        "X_pp = completo['tweets_original'].apply(Tokenize)\n",
        "y_pp = completo['polaridade']\n",
        "y_pp = one.fit_transform(y_pp.values.reshape(-1,1))\n",
        "X_train, X_test, y_train, y_test = train_test_split(X_pp,y_pp, test_size= 0.3)"
      ],
      "metadata": {
        "id": "eUaKQT3Rrzm2"
      },
      "id": "eUaKQT3Rrzm2",
      "execution_count": 33,
      "outputs": []
    },
    {
      "cell_type": "code",
      "source": [
        "model = tf.keras.Sequential([\n",
        "    vectorize_layer,\n",
        "    tf.keras.layers.Embedding(\n",
        "        input_dim=len(vectorize_layer.get_vocabulary()),\n",
        "        output_dim=64,\n",
        "        mask_zero=True),\n",
        "    \n",
        "    tf.keras.layers.Conv1D(8,3, activation='relu', kernel_regularizer=tf.keras.regularizers.l1(0.01)),\n",
        "    tf.keras.layers.Dropout(0.5),\n",
        "    tf.keras.layers.MaxPooling1D(2),\n",
        "    tf.keras.layers.Flatten(),\n",
        "    \n",
        "    tf.keras.layers.Dense(4, activation='relu'),\n",
        "    tf.keras.layers.Dense(3, activation='softmax')   \n",
        "])\n",
        "\n",
        "model.compile(\n",
        "    optimizer= tf.keras.optimizers.Adam(),\n",
        "    loss=tf.keras.losses.binary_crossentropy,\n",
        "    metrics=['accuracy']\n",
        ")\n",
        "\n",
        "fit = model.fit(X_train, y_train, epochs=40, batch_size=20, validation_data=(X_test , y_test))\n",
        "y_pred = model.predict(X_test)"
      ],
      "metadata": {
        "colab": {
          "base_uri": "https://localhost:8080/"
        },
        "id": "PxJjg2cwlTmE",
        "outputId": "cf3db14f-2b7f-4aef-d0d0-c2d727970893"
      },
      "id": "PxJjg2cwlTmE",
      "execution_count": 44,
      "outputs": [
        {
          "output_type": "stream",
          "name": "stdout",
          "text": [
            "Epoch 1/40\n",
            "403/403 [==============================] - 7s 12ms/step - loss: 0.8137 - accuracy: 0.4524 - val_loss: 0.6298 - val_accuracy: 0.4509\n",
            "Epoch 2/40\n",
            "403/403 [==============================] - 4s 10ms/step - loss: 0.6242 - accuracy: 0.4526 - val_loss: 0.6271 - val_accuracy: 0.4509\n",
            "Epoch 3/40\n",
            "403/403 [==============================] - 4s 10ms/step - loss: 0.6237 - accuracy: 0.4526 - val_loss: 0.6260 - val_accuracy: 0.4509\n",
            "Epoch 4/40\n",
            "403/403 [==============================] - 4s 10ms/step - loss: 0.6230 - accuracy: 0.4526 - val_loss: 0.6265 - val_accuracy: 0.4509\n",
            "Epoch 5/40\n",
            "403/403 [==============================] - 4s 9ms/step - loss: 0.6234 - accuracy: 0.4526 - val_loss: 0.6257 - val_accuracy: 0.4509\n",
            "Epoch 6/40\n",
            "403/403 [==============================] - 4s 9ms/step - loss: 0.6235 - accuracy: 0.4526 - val_loss: 0.6266 - val_accuracy: 0.4509\n",
            "Epoch 7/40\n",
            "403/403 [==============================] - 4s 9ms/step - loss: 0.6230 - accuracy: 0.4526 - val_loss: 0.6278 - val_accuracy: 0.4509\n",
            "Epoch 8/40\n",
            "403/403 [==============================] - 4s 11ms/step - loss: 0.6233 - accuracy: 0.4526 - val_loss: 0.6258 - val_accuracy: 0.4509\n",
            "Epoch 9/40\n",
            "403/403 [==============================] - 3s 7ms/step - loss: 0.6227 - accuracy: 0.4526 - val_loss: 0.6244 - val_accuracy: 0.4509\n",
            "Epoch 10/40\n",
            "403/403 [==============================] - 2s 5ms/step - loss: 0.6230 - accuracy: 0.4526 - val_loss: 0.6253 - val_accuracy: 0.4509\n",
            "Epoch 11/40\n",
            "403/403 [==============================] - 2s 5ms/step - loss: 0.6235 - accuracy: 0.4526 - val_loss: 0.6254 - val_accuracy: 0.4509\n",
            "Epoch 12/40\n",
            "403/403 [==============================] - 2s 5ms/step - loss: 0.6228 - accuracy: 0.4526 - val_loss: 0.6259 - val_accuracy: 0.4509\n",
            "Epoch 13/40\n",
            "403/403 [==============================] - 2s 5ms/step - loss: 0.6229 - accuracy: 0.4526 - val_loss: 0.6247 - val_accuracy: 0.4509\n",
            "Epoch 14/40\n",
            "403/403 [==============================] - 2s 6ms/step - loss: 0.6229 - accuracy: 0.4526 - val_loss: 0.6232 - val_accuracy: 0.4509\n",
            "Epoch 15/40\n",
            "403/403 [==============================] - 2s 6ms/step - loss: 0.6231 - accuracy: 0.4526 - val_loss: 0.6253 - val_accuracy: 0.4509\n",
            "Epoch 16/40\n",
            "403/403 [==============================] - 2s 6ms/step - loss: 0.6232 - accuracy: 0.4526 - val_loss: 0.6254 - val_accuracy: 0.4509\n",
            "Epoch 17/40\n",
            "403/403 [==============================] - 2s 6ms/step - loss: 0.6232 - accuracy: 0.4526 - val_loss: 0.6250 - val_accuracy: 0.4509\n",
            "Epoch 18/40\n",
            "403/403 [==============================] - 2s 5ms/step - loss: 0.6231 - accuracy: 0.4526 - val_loss: 0.6245 - val_accuracy: 0.4509\n",
            "Epoch 19/40\n",
            "403/403 [==============================] - 2s 5ms/step - loss: 0.6230 - accuracy: 0.4526 - val_loss: 0.6248 - val_accuracy: 0.4509\n",
            "Epoch 20/40\n",
            "403/403 [==============================] - 2s 5ms/step - loss: 0.6227 - accuracy: 0.4526 - val_loss: 0.6248 - val_accuracy: 0.4509\n",
            "Epoch 21/40\n",
            "403/403 [==============================] - 2s 6ms/step - loss: 0.6228 - accuracy: 0.4526 - val_loss: 0.6258 - val_accuracy: 0.4509\n",
            "Epoch 22/40\n",
            "403/403 [==============================] - 2s 6ms/step - loss: 0.6226 - accuracy: 0.4526 - val_loss: 0.6248 - val_accuracy: 0.4509\n",
            "Epoch 23/40\n",
            "403/403 [==============================] - 2s 6ms/step - loss: 0.6228 - accuracy: 0.4526 - val_loss: 0.6239 - val_accuracy: 0.4509\n",
            "Epoch 24/40\n",
            "403/403 [==============================] - 2s 6ms/step - loss: 0.6228 - accuracy: 0.4526 - val_loss: 0.6242 - val_accuracy: 0.4509\n",
            "Epoch 25/40\n",
            "403/403 [==============================] - 2s 6ms/step - loss: 0.6229 - accuracy: 0.4526 - val_loss: 0.6245 - val_accuracy: 0.4509\n",
            "Epoch 26/40\n",
            "403/403 [==============================] - 2s 6ms/step - loss: 0.6228 - accuracy: 0.4526 - val_loss: 0.6238 - val_accuracy: 0.4509\n",
            "Epoch 27/40\n",
            "403/403 [==============================] - 2s 6ms/step - loss: 0.6233 - accuracy: 0.4526 - val_loss: 0.6247 - val_accuracy: 0.4509\n",
            "Epoch 28/40\n",
            "403/403 [==============================] - 2s 5ms/step - loss: 0.6232 - accuracy: 0.4526 - val_loss: 0.6238 - val_accuracy: 0.4509\n",
            "Epoch 29/40\n",
            "403/403 [==============================] - 2s 6ms/step - loss: 0.6230 - accuracy: 0.4526 - val_loss: 0.6248 - val_accuracy: 0.4509\n",
            "Epoch 30/40\n",
            "403/403 [==============================] - 2s 6ms/step - loss: 0.6226 - accuracy: 0.4526 - val_loss: 0.6234 - val_accuracy: 0.4509\n",
            "Epoch 31/40\n",
            "403/403 [==============================] - 2s 6ms/step - loss: 0.6219 - accuracy: 0.4526 - val_loss: 0.6229 - val_accuracy: 0.4509\n",
            "Epoch 32/40\n",
            "403/403 [==============================] - 2s 6ms/step - loss: 0.6207 - accuracy: 0.4526 - val_loss: 0.6228 - val_accuracy: 0.4509\n",
            "Epoch 33/40\n",
            "403/403 [==============================] - 2s 6ms/step - loss: 0.6190 - accuracy: 0.4526 - val_loss: 0.6205 - val_accuracy: 0.4509\n",
            "Epoch 34/40\n",
            "403/403 [==============================] - 2s 6ms/step - loss: 0.6159 - accuracy: 0.4526 - val_loss: 0.6187 - val_accuracy: 0.4509\n",
            "Epoch 35/40\n",
            "403/403 [==============================] - 3s 8ms/step - loss: 0.6126 - accuracy: 0.4564 - val_loss: 0.6166 - val_accuracy: 0.4553\n",
            "Epoch 36/40\n",
            "403/403 [==============================] - 2s 6ms/step - loss: 0.6111 - accuracy: 0.4736 - val_loss: 0.6157 - val_accuracy: 0.4680\n",
            "Epoch 37/40\n",
            "403/403 [==============================] - 2s 6ms/step - loss: 0.6092 - accuracy: 0.4844 - val_loss: 0.6205 - val_accuracy: 0.4787\n",
            "Epoch 38/40\n",
            "403/403 [==============================] - 2s 5ms/step - loss: 0.6080 - accuracy: 0.4873 - val_loss: 0.6172 - val_accuracy: 0.4854\n",
            "Epoch 39/40\n",
            "403/403 [==============================] - 2s 6ms/step - loss: 0.6061 - accuracy: 0.4911 - val_loss: 0.6136 - val_accuracy: 0.4810\n",
            "Epoch 40/40\n",
            "403/403 [==============================] - 2s 6ms/step - loss: 0.6038 - accuracy: 0.4983 - val_loss: 0.6183 - val_accuracy: 0.4773\n"
          ]
        }
      ]
    },
    {
      "cell_type": "code",
      "source": [
        "print(classification_report(np.argmax(y_test, axis=1), np.argmax(y_pred, axis=1)))"
      ],
      "metadata": {
        "colab": {
          "base_uri": "https://localhost:8080/"
        },
        "id": "UqMtlMDMCI7i",
        "outputId": "361a0229-1e89-4070-ea95-44a6a5df6bde"
      },
      "id": "UqMtlMDMCI7i",
      "execution_count": 47,
      "outputs": [
        {
          "output_type": "stream",
          "name": "stdout",
          "text": [
            "              precision    recall  f1-score   support\n",
            "\n",
            "           0       0.39      0.52      0.45      1029\n",
            "           1       0.00      0.00      0.00       867\n",
            "           2       0.54      0.71      0.61      1557\n",
            "\n",
            "    accuracy                           0.48      3453\n",
            "   macro avg       0.31      0.41      0.35      3453\n",
            "weighted avg       0.36      0.48      0.41      3453\n",
            "\n"
          ]
        },
        {
          "output_type": "stream",
          "name": "stderr",
          "text": [
            "/usr/local/lib/python3.7/dist-packages/sklearn/metrics/_classification.py:1318: UndefinedMetricWarning: Precision and F-score are ill-defined and being set to 0.0 in labels with no predicted samples. Use `zero_division` parameter to control this behavior.\n",
            "  _warn_prf(average, modifier, msg_start, len(result))\n",
            "/usr/local/lib/python3.7/dist-packages/sklearn/metrics/_classification.py:1318: UndefinedMetricWarning: Precision and F-score are ill-defined and being set to 0.0 in labels with no predicted samples. Use `zero_division` parameter to control this behavior.\n",
            "  _warn_prf(average, modifier, msg_start, len(result))\n",
            "/usr/local/lib/python3.7/dist-packages/sklearn/metrics/_classification.py:1318: UndefinedMetricWarning: Precision and F-score are ill-defined and being set to 0.0 in labels with no predicted samples. Use `zero_division` parameter to control this behavior.\n",
            "  _warn_prf(average, modifier, msg_start, len(result))\n"
          ]
        }
      ]
    },
    {
      "cell_type": "code",
      "source": [
        "X_pi = completo['tweets_translater_face'].apply(Tokenize)\n",
        "y_pi = completo['polaridade']\n",
        "y_pi = one.fit_transform(y_pi.values.reshape(-1,1))\n",
        "X_train, X_test, y_train, y_test = train_test_split(X_pi,y_pi, test_size= 0.3)"
      ],
      "metadata": {
        "id": "iUtj24sGXDAY"
      },
      "id": "iUtj24sGXDAY",
      "execution_count": 49,
      "outputs": []
    },
    {
      "cell_type": "code",
      "source": [
        "model = tf.keras.Sequential([\n",
        "    vectorize_layer,\n",
        "    tf.keras.layers.Embedding(\n",
        "        input_dim=len(vectorize_layer.get_vocabulary()),\n",
        "        output_dim=64,\n",
        "        mask_zero=True),\n",
        "    \n",
        "    tf.keras.layers.Conv1D(8,3, activation='relu', kernel_regularizer=tf.keras.regularizers.l1(0.01)),\n",
        "    tf.keras.layers.Dropout(0.5),\n",
        "    tf.keras.layers.MaxPooling1D(2),\n",
        "    tf.keras.layers.Flatten(),\n",
        "    \n",
        "    tf.keras.layers.Dense(4, activation='relu'),\n",
        "    tf.keras.layers.Dense(3, activation='softmax')   \n",
        "])\n",
        "\n",
        "model.compile(\n",
        "    optimizer= tf.keras.optimizers.Adam(),\n",
        "    loss=tf.keras.losses.binary_crossentropy,\n",
        "    metrics=['accuracy']\n",
        ")\n",
        "\n",
        "fit = model.fit(X_pi, y_pi, epochs=40, batch_size=20, validation_data=(X_test , y_test))\n",
        "y_predpi = model.predict(X_test)"
      ],
      "metadata": {
        "colab": {
          "base_uri": "https://localhost:8080/"
        },
        "id": "5BBtRa33aIbd",
        "outputId": "f8f56761-c6ad-4222-c063-df7be9fb5b7e"
      },
      "id": "5BBtRa33aIbd",
      "execution_count": 50,
      "outputs": [
        {
          "output_type": "stream",
          "name": "stdout",
          "text": [
            "Epoch 1/40\n",
            "576/576 [==============================] - 6s 9ms/step - loss: 0.7552 - accuracy: 0.4517 - val_loss: 0.6293 - val_accuracy: 0.4521\n",
            "Epoch 2/40\n",
            "576/576 [==============================] - 4s 6ms/step - loss: 0.6231 - accuracy: 0.4521 - val_loss: 0.6279 - val_accuracy: 0.4521\n",
            "Epoch 3/40\n",
            "576/576 [==============================] - 3s 6ms/step - loss: 0.6233 - accuracy: 0.4521 - val_loss: 0.6293 - val_accuracy: 0.4521\n",
            "Epoch 4/40\n",
            "576/576 [==============================] - 3s 6ms/step - loss: 0.6235 - accuracy: 0.4521 - val_loss: 0.6286 - val_accuracy: 0.4521\n",
            "Epoch 5/40\n",
            "576/576 [==============================] - 3s 6ms/step - loss: 0.6231 - accuracy: 0.4521 - val_loss: 0.6284 - val_accuracy: 0.4521\n",
            "Epoch 6/40\n",
            "576/576 [==============================] - 3s 6ms/step - loss: 0.6233 - accuracy: 0.4521 - val_loss: 0.6277 - val_accuracy: 0.4521\n",
            "Epoch 7/40\n",
            "576/576 [==============================] - 3s 5ms/step - loss: 0.6233 - accuracy: 0.4521 - val_loss: 0.6255 - val_accuracy: 0.4521\n",
            "Epoch 8/40\n",
            "576/576 [==============================] - 3s 6ms/step - loss: 0.6231 - accuracy: 0.4521 - val_loss: 0.6244 - val_accuracy: 0.4521\n",
            "Epoch 9/40\n",
            "576/576 [==============================] - 3s 6ms/step - loss: 0.6232 - accuracy: 0.4521 - val_loss: 0.6246 - val_accuracy: 0.4521\n",
            "Epoch 10/40\n",
            "576/576 [==============================] - 3s 6ms/step - loss: 0.6231 - accuracy: 0.4521 - val_loss: 0.6252 - val_accuracy: 0.4521\n",
            "Epoch 11/40\n",
            "576/576 [==============================] - 3s 6ms/step - loss: 0.6230 - accuracy: 0.4521 - val_loss: 0.6257 - val_accuracy: 0.4521\n",
            "Epoch 12/40\n",
            "576/576 [==============================] - 3s 6ms/step - loss: 0.6229 - accuracy: 0.4521 - val_loss: 0.6258 - val_accuracy: 0.4521\n",
            "Epoch 13/40\n",
            "576/576 [==============================] - 3s 6ms/step - loss: 0.6226 - accuracy: 0.4521 - val_loss: 0.6242 - val_accuracy: 0.4521\n",
            "Epoch 14/40\n",
            "576/576 [==============================] - 3s 6ms/step - loss: 0.6227 - accuracy: 0.4521 - val_loss: 0.6245 - val_accuracy: 0.4521\n",
            "Epoch 15/40\n",
            "576/576 [==============================] - 3s 5ms/step - loss: 0.6227 - accuracy: 0.4521 - val_loss: 0.6249 - val_accuracy: 0.4521\n",
            "Epoch 16/40\n",
            "576/576 [==============================] - 4s 7ms/step - loss: 0.6229 - accuracy: 0.4521 - val_loss: 0.6243 - val_accuracy: 0.4521\n",
            "Epoch 17/40\n",
            "576/576 [==============================] - 3s 6ms/step - loss: 0.6231 - accuracy: 0.4521 - val_loss: 0.6240 - val_accuracy: 0.4521\n",
            "Epoch 18/40\n",
            "576/576 [==============================] - 3s 5ms/step - loss: 0.6232 - accuracy: 0.4521 - val_loss: 0.6248 - val_accuracy: 0.4521\n",
            "Epoch 19/40\n",
            "576/576 [==============================] - 3s 6ms/step - loss: 0.6230 - accuracy: 0.4521 - val_loss: 0.6245 - val_accuracy: 0.4521\n",
            "Epoch 20/40\n",
            "576/576 [==============================] - 3s 6ms/step - loss: 0.6233 - accuracy: 0.4521 - val_loss: 0.6243 - val_accuracy: 0.4521\n",
            "Epoch 21/40\n",
            "576/576 [==============================] - 3s 6ms/step - loss: 0.6231 - accuracy: 0.4521 - val_loss: 0.6240 - val_accuracy: 0.4521\n",
            "Epoch 22/40\n",
            "576/576 [==============================] - 4s 7ms/step - loss: 0.6234 - accuracy: 0.4521 - val_loss: 0.6240 - val_accuracy: 0.4521\n",
            "Epoch 23/40\n",
            "576/576 [==============================] - 3s 5ms/step - loss: 0.6238 - accuracy: 0.4521 - val_loss: 0.6251 - val_accuracy: 0.4521\n",
            "Epoch 24/40\n",
            "576/576 [==============================] - 3s 5ms/step - loss: 0.6237 - accuracy: 0.4521 - val_loss: 0.6243 - val_accuracy: 0.4521\n",
            "Epoch 25/40\n",
            "576/576 [==============================] - 3s 6ms/step - loss: 0.6215 - accuracy: 0.4520 - val_loss: 0.6276 - val_accuracy: 0.4521\n",
            "Epoch 26/40\n",
            "576/576 [==============================] - 3s 6ms/step - loss: 0.6176 - accuracy: 0.4656 - val_loss: 0.6169 - val_accuracy: 0.4726\n",
            "Epoch 27/40\n",
            "576/576 [==============================] - 3s 5ms/step - loss: 0.6154 - accuracy: 0.4755 - val_loss: 0.6180 - val_accuracy: 0.4923\n",
            "Epoch 28/40\n",
            "576/576 [==============================] - 3s 5ms/step - loss: 0.6131 - accuracy: 0.4844 - val_loss: 0.6155 - val_accuracy: 0.4897\n",
            "Epoch 29/40\n",
            "576/576 [==============================] - 3s 6ms/step - loss: 0.6110 - accuracy: 0.4891 - val_loss: 0.6107 - val_accuracy: 0.5019\n",
            "Epoch 30/40\n",
            "576/576 [==============================] - 3s 5ms/step - loss: 0.6092 - accuracy: 0.4935 - val_loss: 0.6157 - val_accuracy: 0.4828\n",
            "Epoch 31/40\n",
            "576/576 [==============================] - 3s 5ms/step - loss: 0.6076 - accuracy: 0.5025 - val_loss: 0.6096 - val_accuracy: 0.4981\n",
            "Epoch 32/40\n",
            "576/576 [==============================] - 3s 6ms/step - loss: 0.6052 - accuracy: 0.4975 - val_loss: 0.6079 - val_accuracy: 0.5106\n",
            "Epoch 33/40\n",
            "576/576 [==============================] - 3s 5ms/step - loss: 0.6037 - accuracy: 0.4990 - val_loss: 0.6154 - val_accuracy: 0.4932\n",
            "Epoch 34/40\n",
            "576/576 [==============================] - 3s 5ms/step - loss: 0.6018 - accuracy: 0.5081 - val_loss: 0.6090 - val_accuracy: 0.4938\n",
            "Epoch 35/40\n",
            "576/576 [==============================] - 3s 5ms/step - loss: 0.6015 - accuracy: 0.5008 - val_loss: 0.6032 - val_accuracy: 0.5077\n",
            "Epoch 36/40\n",
            "576/576 [==============================] - 3s 6ms/step - loss: 0.5983 - accuracy: 0.5089 - val_loss: 0.6055 - val_accuracy: 0.5042\n",
            "Epoch 37/40\n",
            "576/576 [==============================] - 3s 6ms/step - loss: 0.5985 - accuracy: 0.5082 - val_loss: 0.6170 - val_accuracy: 0.5065\n",
            "Epoch 38/40\n",
            "576/576 [==============================] - 3s 5ms/step - loss: 0.5971 - accuracy: 0.5153 - val_loss: 0.5997 - val_accuracy: 0.5094\n",
            "Epoch 39/40\n",
            "576/576 [==============================] - 3s 6ms/step - loss: 0.5941 - accuracy: 0.5121 - val_loss: 0.6042 - val_accuracy: 0.4993\n",
            "Epoch 40/40\n",
            "576/576 [==============================] - 3s 5ms/step - loss: 0.5931 - accuracy: 0.5172 - val_loss: 0.6112 - val_accuracy: 0.4819\n"
          ]
        }
      ]
    },
    {
      "cell_type": "code",
      "source": [
        "print(classification_report(np.argmax(y_test, axis=1), np.argmax(y_predpi, axis=1)))"
      ],
      "metadata": {
        "colab": {
          "base_uri": "https://localhost:8080/"
        },
        "id": "_qbtHTp0EPiL",
        "outputId": "0674639c-2dc4-4fbc-f475-51eacc165a29"
      },
      "id": "_qbtHTp0EPiL",
      "execution_count": 51,
      "outputs": [
        {
          "output_type": "stream",
          "name": "stdout",
          "text": [
            "              precision    recall  f1-score   support\n",
            "\n",
            "           0       0.37      0.86      0.51       991\n",
            "           1       0.00      0.00      0.00       901\n",
            "           2       0.72      0.52      0.60      1561\n",
            "\n",
            "    accuracy                           0.48      3453\n",
            "   macro avg       0.36      0.46      0.37      3453\n",
            "weighted avg       0.43      0.48      0.42      3453\n",
            "\n"
          ]
        },
        {
          "output_type": "stream",
          "name": "stderr",
          "text": [
            "/usr/local/lib/python3.7/dist-packages/sklearn/metrics/_classification.py:1318: UndefinedMetricWarning: Precision and F-score are ill-defined and being set to 0.0 in labels with no predicted samples. Use `zero_division` parameter to control this behavior.\n",
            "  _warn_prf(average, modifier, msg_start, len(result))\n",
            "/usr/local/lib/python3.7/dist-packages/sklearn/metrics/_classification.py:1318: UndefinedMetricWarning: Precision and F-score are ill-defined and being set to 0.0 in labels with no predicted samples. Use `zero_division` parameter to control this behavior.\n",
            "  _warn_prf(average, modifier, msg_start, len(result))\n",
            "/usr/local/lib/python3.7/dist-packages/sklearn/metrics/_classification.py:1318: UndefinedMetricWarning: Precision and F-score are ill-defined and being set to 0.0 in labels with no predicted samples. Use `zero_division` parameter to control this behavior.\n",
            "  _warn_prf(average, modifier, msg_start, len(result))\n"
          ]
        }
      ]
    },
    {
      "cell_type": "code",
      "source": [
        ""
      ],
      "metadata": {
        "id": "DFow1QZYE2X6"
      },
      "id": "DFow1QZYE2X6",
      "execution_count": null,
      "outputs": []
    }
  ],
  "metadata": {
    "kernelspec": {
      "display_name": "Python 3 (ipykernel)",
      "language": "python",
      "name": "python3"
    },
    "language_info": {
      "codemirror_mode": {
        "name": "ipython",
        "version": 3
      },
      "file_extension": ".py",
      "mimetype": "text/x-python",
      "name": "python",
      "nbconvert_exporter": "python",
      "pygments_lexer": "ipython3",
      "version": "3.9.1"
    },
    "colab": {
      "name": "Projeto final de deep learning",
      "provenance": [],
      "collapsed_sections": []
    },
    "accelerator": "GPU",
    "gpuClass": "standard"
  },
  "nbformat": 4,
  "nbformat_minor": 5
}